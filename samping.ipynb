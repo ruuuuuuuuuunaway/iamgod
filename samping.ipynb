{
 "cells": [
  {
   "cell_type": "markdown",
   "metadata": {},
   "source": [
    "# Sampling 방법 (Pandas, Sklearn)"
   ]
  },
  {
   "cell_type": "code",
   "execution_count": 24,
   "metadata": {},
   "outputs": [
    {
     "data": {
      "text/html": [
       "<div>\n",
       "<style scoped>\n",
       "    .dataframe tbody tr th:only-of-type {\n",
       "        vertical-align: middle;\n",
       "    }\n",
       "\n",
       "    .dataframe tbody tr th {\n",
       "        vertical-align: top;\n",
       "    }\n",
       "\n",
       "    .dataframe thead th {\n",
       "        text-align: right;\n",
       "    }\n",
       "</style>\n",
       "<table border=\"1\" class=\"dataframe\">\n",
       "  <thead>\n",
       "    <tr style=\"text-align: right;\">\n",
       "      <th></th>\n",
       "      <th>EMP_NO</th>\n",
       "      <th>NAME</th>\n",
       "      <th>SALARY</th>\n",
       "      <th>DEPARTMENT</th>\n",
       "    </tr>\n",
       "  </thead>\n",
       "  <tbody>\n",
       "    <tr>\n",
       "      <td>0</td>\n",
       "      <td>1</td>\n",
       "      <td>Alien</td>\n",
       "      <td>1000</td>\n",
       "      <td>IT</td>\n",
       "    </tr>\n",
       "    <tr>\n",
       "      <td>1</td>\n",
       "      <td>2</td>\n",
       "      <td>Bill</td>\n",
       "      <td>3000</td>\n",
       "      <td>IT</td>\n",
       "    </tr>\n",
       "    <tr>\n",
       "      <td>2</td>\n",
       "      <td>3</td>\n",
       "      <td>Charlie</td>\n",
       "      <td>2000</td>\n",
       "      <td>HR</td>\n",
       "    </tr>\n",
       "    <tr>\n",
       "      <td>3</td>\n",
       "      <td>4</td>\n",
       "      <td>Dragon</td>\n",
       "      <td>5000</td>\n",
       "      <td>IT</td>\n",
       "    </tr>\n",
       "    <tr>\n",
       "      <td>4</td>\n",
       "      <td>5</td>\n",
       "      <td>Entropy</td>\n",
       "      <td>10000</td>\n",
       "      <td>HR</td>\n",
       "    </tr>\n",
       "  </tbody>\n",
       "</table>\n",
       "</div>"
      ],
      "text/plain": [
       "   EMP_NO     NAME  SALARY DEPARTMENT\n",
       "0       1    Alien    1000         IT\n",
       "1       2     Bill    3000         IT\n",
       "2       3  Charlie    2000         HR\n",
       "3       4   Dragon    5000         IT\n",
       "4       5  Entropy   10000         HR"
      ]
     },
     "execution_count": 24,
     "metadata": {},
     "output_type": "execute_result"
    }
   ],
   "source": [
    "import pandas as pd\n",
    "import sklearn as sk\n",
    "from sklearn.model_selection import train_test_split\n",
    "\n",
    "raw_data = {\n",
    "    \"EMP_NO\": [1, 2, 3, 4, 5, 6],\n",
    "    \"NAME\": [\"Alien\", \"Bill\", \"Charlie\", \"Dragon\", \"Entropy\", \"False\"],\n",
    "    \"SALARY\": [1000, 3000, 2000, 5000, 10000, 100],\n",
    "    \"DEPARTMENT\": [\"IT\", \"IT\", \"HR\", \"IT\", \"HR\", \"HR\"]\n",
    "}\n",
    "\n",
    "df = pd.DataFrame(raw_data)\n",
    "\n",
    "df.head(5)"
   ]
  },
  {
   "cell_type": "code",
   "execution_count": 21,
   "metadata": {},
   "outputs": [
    {
     "data": {
      "text/plain": [
       "(   EMP_NO     NAME  SALARY DEPARTMENT\n",
       " 5       6    False     100         HR\n",
       " 0       1    Alien    1000         IT\n",
       " 4       5  Entropy   10000         HR\n",
       " 3       4   Dragon    5000         IT,\n",
       "    EMP_NO     NAME  SALARY DEPARTMENT\n",
       " 2       3  Charlie    2000         HR\n",
       " 1       2     Bill    3000         IT)"
      ]
     },
     "execution_count": 21,
     "metadata": {},
     "output_type": "execute_result"
    }
   ],
   "source": [
    "# SAMPLE 방법 (pandas, sklearn)\n",
    "random_state = 1234\n",
    "\n",
    "# sklearn\n",
    "df_train, df_test = train_test_split(df, train_size=0.8, random_state=random_state)\n",
    "df_train, df_test"
   ]
  },
  {
   "cell_type": "code",
   "execution_count": 23,
   "metadata": {},
   "outputs": [
    {
     "data": {
      "text/html": [
       "<div>\n",
       "<style scoped>\n",
       "    .dataframe tbody tr th:only-of-type {\n",
       "        vertical-align: middle;\n",
       "    }\n",
       "\n",
       "    .dataframe tbody tr th {\n",
       "        vertical-align: top;\n",
       "    }\n",
       "\n",
       "    .dataframe thead tr th {\n",
       "        text-align: left;\n",
       "    }\n",
       "\n",
       "    .dataframe thead tr:last-of-type th {\n",
       "        text-align: right;\n",
       "    }\n",
       "</style>\n",
       "<table border=\"1\" class=\"dataframe\">\n",
       "  <thead>\n",
       "    <tr>\n",
       "      <th></th>\n",
       "      <th colspan=\"7\" halign=\"left\">SALARY</th>\n",
       "    </tr>\n",
       "    <tr>\n",
       "      <th></th>\n",
       "      <th>mean</th>\n",
       "      <th>var</th>\n",
       "      <th>std</th>\n",
       "      <th>median</th>\n",
       "      <th>count</th>\n",
       "      <th>min</th>\n",
       "      <th>max</th>\n",
       "    </tr>\n",
       "    <tr>\n",
       "      <th>DEPARTMENT</th>\n",
       "      <th></th>\n",
       "      <th></th>\n",
       "      <th></th>\n",
       "      <th></th>\n",
       "      <th></th>\n",
       "      <th></th>\n",
       "      <th></th>\n",
       "    </tr>\n",
       "  </thead>\n",
       "  <tbody>\n",
       "    <tr>\n",
       "      <td>HR</td>\n",
       "      <td>2000</td>\n",
       "      <td>NaN</td>\n",
       "      <td>NaN</td>\n",
       "      <td>2000</td>\n",
       "      <td>1</td>\n",
       "      <td>2000</td>\n",
       "      <td>2000</td>\n",
       "    </tr>\n",
       "  </tbody>\n",
       "</table>\n",
       "</div>"
      ],
      "text/plain": [
       "           SALARY                                 \n",
       "             mean var std median count   min   max\n",
       "DEPARTMENT                                        \n",
       "HR           2000 NaN NaN   2000     1  2000  2000"
      ]
     },
     "execution_count": 23,
     "metadata": {},
     "output_type": "execute_result"
    }
   ],
   "source": [
    "# pandas\n",
    "# sample()\n",
    "df.sample(\n",
    "    frac=0.2,\n",
    "    random_state=random_state\n",
    ")\n",
    "\n",
    "# sample + groupby\n",
    "df.sample(\n",
    "    n=1,\n",
    "    random_state=random_state\n",
    ").groupby(\"DEPARTMENT\").agg(\n",
    "    {\"SALARY\": [\"mean\", \"var\", \"std\", \"median\", \"count\", \"min\", \"max\"]}\n",
    ")"
   ]
  }
 ],
 "metadata": {
  "kernelspec": {
   "display_name": "Python 3",
   "language": "python",
   "name": "python3"
  },
  "language_info": {
   "codemirror_mode": {
    "name": "ipython",
    "version": 3
   },
   "file_extension": ".py",
   "mimetype": "text/x-python",
   "name": "python",
   "nbconvert_exporter": "python",
   "pygments_lexer": "ipython3",
   "version": "3.7.4"
  }
 },
 "nbformat": 4,
 "nbformat_minor": 2
}
