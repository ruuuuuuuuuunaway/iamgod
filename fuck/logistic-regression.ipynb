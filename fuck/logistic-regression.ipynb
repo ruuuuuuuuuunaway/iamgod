{
 "cells": [
  {
   "cell_type": "markdown",
   "metadata": {},
   "source": [
    "# 로지스틱 회귀분석"
   ]
  },
  {
   "cell_type": "code",
   "execution_count": 22,
   "metadata": {},
   "outputs": [
    {
     "data": {
      "text/html": [
       "<div>\n",
       "<style scoped>\n",
       "    .dataframe tbody tr th:only-of-type {\n",
       "        vertical-align: middle;\n",
       "    }\n",
       "\n",
       "    .dataframe tbody tr th {\n",
       "        vertical-align: top;\n",
       "    }\n",
       "\n",
       "    .dataframe thead th {\n",
       "        text-align: right;\n",
       "    }\n",
       "</style>\n",
       "<table border=\"1\" class=\"dataframe\">\n",
       "  <thead>\n",
       "    <tr style=\"text-align: right;\">\n",
       "      <th></th>\n",
       "      <th>EMP_NO</th>\n",
       "      <th>AGE</th>\n",
       "      <th>SALARY</th>\n",
       "      <th>IMPROVEMENT</th>\n",
       "    </tr>\n",
       "  </thead>\n",
       "  <tbody>\n",
       "    <tr>\n",
       "      <td>0</td>\n",
       "      <td>1</td>\n",
       "      <td>20</td>\n",
       "      <td>1000</td>\n",
       "      <td>1</td>\n",
       "    </tr>\n",
       "    <tr>\n",
       "      <td>1</td>\n",
       "      <td>2</td>\n",
       "      <td>24</td>\n",
       "      <td>3000</td>\n",
       "      <td>1</td>\n",
       "    </tr>\n",
       "    <tr>\n",
       "      <td>2</td>\n",
       "      <td>3</td>\n",
       "      <td>22</td>\n",
       "      <td>2000</td>\n",
       "      <td>1</td>\n",
       "    </tr>\n",
       "    <tr>\n",
       "      <td>3</td>\n",
       "      <td>4</td>\n",
       "      <td>30</td>\n",
       "      <td>5000</td>\n",
       "      <td>0</td>\n",
       "    </tr>\n",
       "    <tr>\n",
       "      <td>4</td>\n",
       "      <td>5</td>\n",
       "      <td>52</td>\n",
       "      <td>10000</td>\n",
       "      <td>0</td>\n",
       "    </tr>\n",
       "  </tbody>\n",
       "</table>\n",
       "</div>"
      ],
      "text/plain": [
       "   EMP_NO  AGE  SALARY  IMPROVEMENT\n",
       "0       1   20    1000            1\n",
       "1       2   24    3000            1\n",
       "2       3   22    2000            1\n",
       "3       4   30    5000            0\n",
       "4       5   52   10000            0"
      ]
     },
     "execution_count": 22,
     "metadata": {},
     "output_type": "execute_result"
    }
   ],
   "source": [
    "import pandas as pd\n",
    "import numpy as np\n",
    "\n",
    "raw_data = {\n",
    "    \"EMP_NO\": [1, 2, 3, 4, 5, 6],\n",
    "    \"NAME\": [\"Aurora\", \"Bill\", \"Charlie\", \"Dragon\", \"Entropy\", \"False\"],\n",
    "    \"AGE\": [20, 24, 22, 30, 52, 14],\n",
    "    \"SALARY\": [1000, 3000, 2000, 5000, 10000, 100],\n",
    "    \"DEPARTMENT\": [\"IT\", \"IT\", \"HR\", \"IT\", \"CEO\", \"HR\"],\n",
    "    \"IMPROVEMENT\": [1, 1, 1, 0, 0, 1,]\n",
    "}\n",
    "\n",
    "df = pd.DataFrame(raw_data)\n",
    "df = df.drop(columns=[\"NAME\", \"DEPARTMENT\"])\n",
    "df.head(5)"
   ]
  },
  {
   "cell_type": "code",
   "execution_count": 30,
   "metadata": {},
   "outputs": [
    {
     "name": "stdout",
     "output_type": "stream",
     "text": [
      "Optimization terminated successfully.\n",
      "         Current function value: 0.693084\n",
      "         Iterations 3\n"
     ]
    },
    {
     "data": {
      "text/html": [
       "<table class=\"simpletable\">\n",
       "<caption>Logit Regression Results</caption>\n",
       "<tr>\n",
       "  <th>Dep. Variable:</th>      <td>IMPROVEMENT</td>   <th>  No. Observations:  </th>  <td>     6</td> \n",
       "</tr>\n",
       "<tr>\n",
       "  <th>Model:</th>                 <td>Logit</td>      <th>  Df Residuals:      </th>  <td>     5</td> \n",
       "</tr>\n",
       "<tr>\n",
       "  <th>Method:</th>                 <td>MLE</td>       <th>  Df Model:          </th>  <td>     0</td> \n",
       "</tr>\n",
       "<tr>\n",
       "  <th>Date:</th>            <td>Mon, 25 Nov 2024</td> <th>  Pseudo R-squ.:     </th> <td>-0.08887</td>\n",
       "</tr>\n",
       "<tr>\n",
       "  <th>Time:</th>                <td>15:55:59</td>     <th>  Log-Likelihood:    </th> <td> -4.1585</td>\n",
       "</tr>\n",
       "<tr>\n",
       "  <th>converged:</th>             <td>True</td>       <th>  LL-Null:           </th> <td> -3.8191</td>\n",
       "</tr>\n",
       "<tr>\n",
       "  <th>Covariance Type:</th>     <td>nonrobust</td>    <th>  LLR p-value:       </th>  <td>   nan</td> \n",
       "</tr>\n",
       "</table>\n",
       "<table class=\"simpletable\">\n",
       "<tr>\n",
       "   <td></td>      <th>coef</th>     <th>std err</th>      <th>z</th>      <th>P>|z|</th>  <th>[0.025</th>    <th>0.975]</th>  \n",
       "</tr>\n",
       "<tr>\n",
       "  <th>AGE</th> <td>   -0.0008</td> <td>    0.028</td> <td>   -0.028</td> <td> 0.978</td> <td>   -0.055</td> <td>    0.053</td>\n",
       "</tr>\n",
       "</table>"
      ],
      "text/plain": [
       "<class 'statsmodels.iolib.summary.Summary'>\n",
       "\"\"\"\n",
       "                           Logit Regression Results                           \n",
       "==============================================================================\n",
       "Dep. Variable:            IMPROVEMENT   No. Observations:                    6\n",
       "Model:                          Logit   Df Residuals:                        5\n",
       "Method:                           MLE   Df Model:                            0\n",
       "Date:                Mon, 25 Nov 2024   Pseudo R-squ.:                -0.08887\n",
       "Time:                        15:55:59   Log-Likelihood:                -4.1585\n",
       "converged:                       True   LL-Null:                       -3.8191\n",
       "Covariance Type:            nonrobust   LLR p-value:                       nan\n",
       "==============================================================================\n",
       "                 coef    std err          z      P>|z|      [0.025      0.975]\n",
       "------------------------------------------------------------------------------\n",
       "AGE           -0.0008      0.028     -0.028      0.978      -0.055       0.053\n",
       "==============================================================================\n",
       "\"\"\""
      ]
     },
     "execution_count": 30,
     "metadata": {},
     "output_type": "execute_result"
    }
   ],
   "source": [
    "from statsmodels.api import Logit\n",
    "\n",
    "model = Logit(endog=df[[\"IMPROVEMENT\"]], exog=df[[\"AGE\"]]).fit()\n",
    "model.summary()"
   ]
  },
  {
   "cell_type": "code",
   "execution_count": null,
   "metadata": {},
   "outputs": [
    {
     "name": "stderr",
     "output_type": "stream",
     "text": [
      "c:\\Users\\juwon\\AppData\\Local\\Programs\\Python\\Python37\\lib\\site-packages\\sklearn\\linear_model\\logistic.py:432: FutureWarning: Default solver will be changed to 'lbfgs' in 0.22. Specify a solver to silence this warning.\n",
      "  FutureWarning)\n"
     ]
    },
    {
     "data": {
      "text/plain": [
       "1.0"
      ]
     },
     "execution_count": 67,
     "metadata": {},
     "output_type": "execute_result"
    }
   ],
   "source": [
    "from sklearn.linear_model import LogisticRegression\n",
    "from sklearn.metrics import f1_score, recall_score, precision_score, accuracy_score\n",
    "from sklearn.metrics import roc_auc_score\n",
    "\n",
    "model = LogisticRegression().fit(X=df[[\"AGE\"]], y=df[\"IMPROVEMENT\"])\n",
    "model.predict_proba(pd.DataFrame({\"AGE\": [31]}))\n",
    "\n",
    "f1_score(y_true=df[\"IMPROVEMENT\"], y_pred=model.predict(pd.DataFrame({\"AGE\": [20, 24, 22, 30, 52, 14]})))\n",
    "accuracy_score(y_true=df[\"IMPROVEMENT\"], y_pred=model.predict(pd.DataFrame({\"AGE\": [20, 24, 22, 30, 52, 14]})))\n",
    "recall_score(y_true=df[\"IMPROVEMENT\"], y_pred=model.predict(pd.DataFrame({\"AGE\": [20, 24, 22, 30, 52, 14]})))\n",
    "precision_score(y_true=df[\"IMPROVEMENT\"], y_pred=model.predict(pd.DataFrame({\"AGE\": [20, 24, 22, 30, 52, 14]})))"
   ]
  }
 ],
 "metadata": {
  "kernelspec": {
   "display_name": "Python 3",
   "language": "python",
   "name": "python3"
  },
  "language_info": {
   "codemirror_mode": {
    "name": "ipython",
    "version": 3
   },
   "file_extension": ".py",
   "mimetype": "text/x-python",
   "name": "python",
   "nbconvert_exporter": "python",
   "pygments_lexer": "ipython3",
   "version": "3.7.4"
  }
 },
 "nbformat": 4,
 "nbformat_minor": 2
}
