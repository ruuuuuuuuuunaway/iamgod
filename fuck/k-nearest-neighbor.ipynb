{
 "cells": [
  {
   "cell_type": "markdown",
   "metadata": {},
   "source": [
    "# KNN"
   ]
  },
  {
   "cell_type": "code",
   "execution_count": 1,
   "metadata": {},
   "outputs": [
    {
     "data": {
      "text/html": [
       "<div>\n",
       "<style scoped>\n",
       "    .dataframe tbody tr th:only-of-type {\n",
       "        vertical-align: middle;\n",
       "    }\n",
       "\n",
       "    .dataframe tbody tr th {\n",
       "        vertical-align: top;\n",
       "    }\n",
       "\n",
       "    .dataframe thead th {\n",
       "        text-align: right;\n",
       "    }\n",
       "</style>\n",
       "<table border=\"1\" class=\"dataframe\">\n",
       "  <thead>\n",
       "    <tr style=\"text-align: right;\">\n",
       "      <th></th>\n",
       "      <th>EMP_NO</th>\n",
       "      <th>NAME</th>\n",
       "      <th>AGE</th>\n",
       "      <th>SALARY</th>\n",
       "      <th>DEPARTMENT</th>\n",
       "      <th>PROMOTION</th>\n",
       "    </tr>\n",
       "  </thead>\n",
       "  <tbody>\n",
       "    <tr>\n",
       "      <td>0</td>\n",
       "      <td>1</td>\n",
       "      <td>Aurora</td>\n",
       "      <td>20</td>\n",
       "      <td>1000</td>\n",
       "      <td>IT</td>\n",
       "      <td>1</td>\n",
       "    </tr>\n",
       "    <tr>\n",
       "      <td>1</td>\n",
       "      <td>2</td>\n",
       "      <td>Bill</td>\n",
       "      <td>24</td>\n",
       "      <td>3000</td>\n",
       "      <td>IT</td>\n",
       "      <td>1</td>\n",
       "    </tr>\n",
       "    <tr>\n",
       "      <td>2</td>\n",
       "      <td>3</td>\n",
       "      <td>Charlie</td>\n",
       "      <td>22</td>\n",
       "      <td>2000</td>\n",
       "      <td>HR</td>\n",
       "      <td>1</td>\n",
       "    </tr>\n",
       "    <tr>\n",
       "      <td>3</td>\n",
       "      <td>4</td>\n",
       "      <td>Dragon</td>\n",
       "      <td>30</td>\n",
       "      <td>5000</td>\n",
       "      <td>IT</td>\n",
       "      <td>0</td>\n",
       "    </tr>\n",
       "    <tr>\n",
       "      <td>4</td>\n",
       "      <td>5</td>\n",
       "      <td>Entropy</td>\n",
       "      <td>52</td>\n",
       "      <td>10000</td>\n",
       "      <td>CEO</td>\n",
       "      <td>0</td>\n",
       "    </tr>\n",
       "  </tbody>\n",
       "</table>\n",
       "</div>"
      ],
      "text/plain": [
       "   EMP_NO     NAME  AGE  SALARY DEPARTMENT  PROMOTION\n",
       "0       1   Aurora   20    1000         IT          1\n",
       "1       2     Bill   24    3000         IT          1\n",
       "2       3  Charlie   22    2000         HR          1\n",
       "3       4   Dragon   30    5000         IT          0\n",
       "4       5  Entropy   52   10000        CEO          0"
      ]
     },
     "execution_count": 1,
     "metadata": {},
     "output_type": "execute_result"
    }
   ],
   "source": [
    "import pandas as pd\n",
    "import numpy as np\n",
    "\n",
    "raw_data = {\n",
    "    \"EMP_NO\": [1, 2, 3, 4, 5, 6],\n",
    "    \"NAME\": [\"Aurora\", \"Bill\", \"Charlie\", \"Dragon\", \"Entropy\", \"False\"],\n",
    "    \"AGE\": [20, 24, 22, 30, 52, 14],\n",
    "    \"SALARY\": [1000, 3000, 2000, 5000, 10000, 100],\n",
    "    \"DEPARTMENT\": [\"IT\", \"IT\", \"HR\", \"IT\", \"CEO\", \"HR\"],\n",
    "    \"PROMOTION\": [1, 1, 1, 0, 0, 1]\n",
    "}\n",
    "df = pd.DataFrame(raw_data)\n",
    "df.head(5)"
   ]
  },
  {
   "cell_type": "code",
   "execution_count": 17,
   "metadata": {},
   "outputs": [
    {
     "data": {
      "text/plain": [
       "(array([ 1000.,  3000.,  2000.,  5000., 10000.,   100.]),\n",
       " array([ 1000,  3000,  2000,  5000, 10000,   100], dtype=int64))"
      ]
     },
     "execution_count": 17,
     "metadata": {},
     "output_type": "execute_result"
    }
   ],
   "source": [
    "from sklearn.neighbors import KNeighborsClassifier, KNeighborsRegressor\n",
    "\n",
    "cmodel = KNeighborsClassifier(n_neighbors=3).fit(X=df[[\"AGE\", \"SALARY\"]], y=df[\"PROMOTION\"])\n",
    "cmodel.predict(df[[\"AGE\", \"SALARY\"]]), df[\"PROMOTION\"].values\n",
    "\n",
    "cmodel = KNeighborsClassifier(n_neighbors=3).fit(X=df[[\"AGE\", \"SALARY\"]], y=df[\"PROMOTION\"])\n",
    "fmodel = KNeighborsRegressor(n_neighbors=1).fit(X=df[[\"AGE\"]], y=df[\"SALARY\"])\n",
    "fmodel.predict(df[[\"AGE\"]]), df[\"SALARY\"].values"
   ]
  }
 ],
 "metadata": {
  "kernelspec": {
   "display_name": "Python 3",
   "language": "python",
   "name": "python3"
  },
  "language_info": {
   "codemirror_mode": {
    "name": "ipython",
    "version": 3
   },
   "file_extension": ".py",
   "mimetype": "text/x-python",
   "name": "python",
   "nbconvert_exporter": "python",
   "pygments_lexer": "ipython3",
   "version": "3.7.4"
  }
 },
 "nbformat": 4,
 "nbformat_minor": 2
}
